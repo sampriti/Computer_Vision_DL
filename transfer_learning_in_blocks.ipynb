{
  "cells": [
    {
      "cell_type": "markdown",
      "metadata": {
        "id": "view-in-github",
        "colab_type": "text"
      },
      "source": [
        "<a href=\"https://colab.research.google.com/github/sampriti/Computer_Vision_DL/blob/main/transfer_learning_in_blocks.ipynb\" target=\"_parent\"><img src=\"https://colab.research.google.com/assets/colab-badge.svg\" alt=\"Open In Colab\"/></a>"
      ]
    },
    {
      "cell_type": "markdown",
      "source": [
        "### Mounting the dataset for training"
      ],
      "metadata": {
        "id": "tZUQRAomAzJA"
      }
    },
    {
      "cell_type": "code",
      "execution_count": null,
      "metadata": {
        "colab": {
          "base_uri": "https://localhost:8080/"
        },
        "id": "gY5s9nFgD3Mt",
        "outputId": "41c95d18-b27d-4bef-91c6-256b9f2367c5"
      },
      "outputs": [
        {
          "output_type": "stream",
          "name": "stdout",
          "text": [
            "Drive already mounted at /content/gdrive; to attempt to forcibly remount, call drive.mount(\"/content/gdrive\", force_remount=True).\n"
          ]
        }
      ],
      "source": [
        "from google.colab import drive\n",
        "drive.mount('/content/gdrive')\n",
        "root_path = \"/content/gdrive/My Drive/caltech101/train\""
      ]
    },
    {
      "cell_type": "markdown",
      "source": [
        "### Importing all the required libraries"
      ],
      "metadata": {
        "id": "XkNXIHKQBCnK"
      }
    },
    {
      "cell_type": "code",
      "execution_count": null,
      "metadata": {
        "id": "uYvwaoJQD_Ya"
      },
      "outputs": [],
      "source": [
        "import torchvision\n",
        "from torchvision import datasets,models\n",
        "import torch\n",
        "import torch.nn as nn\n",
        "import torchvision.transforms as transforms\n",
        "from torch.utils.data import DataLoader,random_split\n",
        "import torch.optim as optim\n",
        "import matplotlib.pyplot as plt\n",
        "#import sys\n",
        "import os\n",
        "import copy\n",
        "import time\n",
        "!pip install -q torchinfo\n",
        "from torchinfo import summary"
      ]
    },
    {
      "cell_type": "markdown",
      "source": [
        "### Defining the data directory, model name, number of output classes, number of epochs, feature extracting option"
      ],
      "metadata": {
        "id": "PC62tb8NBKxC"
      }
    },
    {
      "cell_type": "code",
      "execution_count": null,
      "metadata": {
        "id": "GCofCsAkEMUm"
      },
      "outputs": [],
      "source": [
        "#set data directory\n",
        "data_dir = \"/content/drive/My Drive/caltech101/train\"\n",
        "\n",
        "# set model to alexnet\n",
        "model_name='alexnet'\n",
        "\n",
        "# Number of classes in the dataset\n",
        "num_classes = 30\n",
        "\n",
        "# # Batch size for training\n",
        "# batch_size = 24\n",
        "\n",
        "# Number of epochs to train for\n",
        "num_epochs = 10\n",
        "\n",
        "# Flag for feature extracting. When False, we finetune the whole model,\n",
        "#   when True we only update the reshaped layer params\n",
        "feature_extract = True"
      ]
    },
    {
      "cell_type": "markdown",
      "source": [
        "### Defining the device type, data preprocessing and prepare the train and validation dataset"
      ],
      "metadata": {
        "id": "UDwszx2YBtBN"
      }
    },
    {
      "cell_type": "code",
      "execution_count": null,
      "metadata": {
        "colab": {
          "base_uri": "https://localhost:8080/"
        },
        "id": "Z_gAmZlJEa21",
        "outputId": "a93baf74-4034-4cfb-9dff-5686f220a935"
      },
      "outputs": [
        {
          "output_type": "stream",
          "name": "stdout",
          "text": [
            "cuda:0\n"
          ]
        }
      ],
      "source": [
        "\n",
        "device = torch.device(\"cuda:0\" if torch.cuda.is_available() else \"cpu\")\n",
        "print(device)\n",
        "normalize =  transforms.Normalize(mean=[0.485, 0.456, 0.406],                                     # These mean and std values were already defined for the dataset that was used\n",
        "                                 std=[0.229, 0.224, 0.225])                                       # was used for training alexnet\n",
        "resize = transforms . Resize ((224 , 224) )\n",
        "rotation = transforms.RandomRotation(degrees = 90)\n",
        "# Define the low-light augmentation transform\n",
        "low_light_augmentation = transforms.ColorJitter(\n",
        "    brightness=(0, 0.5)  # Adjust brightness between 0 and 0.5 (0.5 is half the original brightness)\n",
        ")\n",
        "preprocessor = transforms.Compose ([ resize , transforms . ToTensor () , normalize ,low_light_augmentation ])\n",
        "\n",
        "\n",
        "dataset=torchvision.datasets.ImageFolder(root_path,preprocessor)\n",
        "train_size = int(0.8 * len(dataset))  # 80% for training\n",
        "val_size = len(dataset) - train_size  # Remaining for validation\n",
        "train_dataset, val_dataset = random_split(dataset, [train_size, val_size])\n"
      ]
    },
    {
      "cell_type": "markdown",
      "source": [
        "### Creating a dataloader dictionary to access training dataset and validation dataset"
      ],
      "metadata": {
        "id": "rUo4wEFICs8V"
      }
    },
    {
      "cell_type": "code",
      "execution_count": null,
      "metadata": {
        "id": "I2kxKTkFuCY_"
      },
      "outputs": [],
      "source": [
        "\n",
        "train_loader = DataLoader(train_dataset, batch_size=32, shuffle=True)\n",
        "val_loader = DataLoader(val_dataset, batch_size=64, shuffle=False)\n",
        "\n",
        "dataloaders_dict = {\n",
        "    'train': train_loader,\n",
        "    'val': val_loader\n",
        "}\n",
        "\n"
      ]
    },
    {
      "cell_type": "markdown",
      "source": [
        "### Defining the train function where we train using training dataset and also evaluate validation loss at every batch"
      ],
      "metadata": {
        "id": "ZOlQM28zC40q"
      }
    },
    {
      "cell_type": "code",
      "execution_count": null,
      "metadata": {
        "id": "DPGxP0_YEf0c"
      },
      "outputs": [],
      "source": [
        "def train_model(model, dataloaders, criterion, optimizer, num_epochs=25):\n",
        "    since = time.time()\n",
        "\n",
        "    val_acc_history = []\n",
        "\n",
        "    best_model_wts = copy.deepcopy(model.state_dict())\n",
        "    best_acc = 0.0\n",
        "\n",
        "    for epoch in range(num_epochs):\n",
        "        print('Epoch {}/{}'.format(epoch, num_epochs - 1))\n",
        "        print('-' * 10)\n",
        "\n",
        "        # Each epoch has a training and validation phase\n",
        "        for phase in ['train', 'val']:\n",
        "            if phase == 'train':\n",
        "                model.train()  # Set model to training mode\n",
        "            else:\n",
        "                model.eval()   # Set model to evaluate mode\n",
        "\n",
        "            running_loss = 0.0\n",
        "            running_corrects = 0\n",
        "\n",
        "            # Iterate over data.\n",
        "            for inputs, labels in dataloaders[phase]:\n",
        "                inputs = inputs.to(device)\n",
        "                labels = labels.to(device)\n",
        "\n",
        "                # zero the parameter gradients\n",
        "                optimizer.zero_grad()\n",
        "\n",
        "                # forward\n",
        "                # track history if only in train\n",
        "                with torch.set_grad_enabled(phase == 'train'):\n",
        "                    outputs = model(inputs)\n",
        "                    loss = criterion(outputs, labels)\n",
        "\n",
        "                    _, preds = torch.max(outputs, 1)\n",
        "\n",
        "                    # backward + optimize only if in training phase\n",
        "                    if phase == 'train':\n",
        "                        loss.backward()\n",
        "                        optimizer.step()\n",
        "\n",
        "                # statistics\n",
        "                running_loss += loss.item() * inputs.size(0)\n",
        "                running_corrects += torch.sum(preds == labels.data)\n",
        "\n",
        "            epoch_loss = running_loss / len(dataloaders[phase].dataset)\n",
        "            epoch_acc = running_corrects.double() / len(dataloaders[phase].dataset)\n",
        "\n",
        "            print('{} Loss: {:.4f} Acc: {:.4f}'.format(phase, epoch_loss, epoch_acc))\n",
        "\n",
        "            # deep copy the model\n",
        "            if phase == 'val' and epoch_acc > best_acc:\n",
        "                best_acc = epoch_acc\n",
        "                best_model_wts = copy.deepcopy(model.state_dict())\n",
        "            if phase == 'val':\n",
        "                val_acc_history.append(epoch_acc)\n",
        "\n",
        "        print()\n",
        "\n",
        "    time_elapsed = time.time() - since\n",
        "    print('Training complete in {:.0f}m {:.0f}s'.format(time_elapsed // 60, time_elapsed % 60))\n",
        "    print('Best val Acc: {:4f}'.format(best_acc))\n",
        "\n",
        "    # load best model weights\n",
        "    model.load_state_dict(best_model_wts)\n",
        "    return model, val_acc_history"
      ]
    },
    {
      "cell_type": "markdown",
      "source": [
        "### Creating a function which freezes gradient calculations for all the layers except the last classfication layer"
      ],
      "metadata": {
        "id": "EpdKrMzRDRMC"
      }
    },
    {
      "cell_type": "code",
      "execution_count": null,
      "metadata": {
        "id": "kI6hDFafEssp"
      },
      "outputs": [],
      "source": [
        "def set_parameter_requires_grad(model, feature_extracting):\n",
        "  print(feature_extracting)\n",
        "  if feature_extracting:\n",
        "      for param in model.parameters():\n",
        "          param.requires_grad = False\n",
        "          # print(\"parameters\",param)"
      ]
    },
    {
      "cell_type": "markdown",
      "source": [
        "### Fetching the alexnet model from the server and displaying how it looks like"
      ],
      "metadata": {
        "id": "mIavZLmQDtGb"
      }
    },
    {
      "cell_type": "code",
      "execution_count": null,
      "metadata": {
        "colab": {
          "base_uri": "https://localhost:8080/"
        },
        "id": "taKKSz61t700",
        "outputId": "dc9ee4ea-e5fa-4f32-8fef-6a90d3ff05df"
      },
      "outputs": [
        {
          "output_type": "execute_result",
          "data": {
            "text/plain": [
              "=================================================================\n",
              "Layer (type (var_name))                  Trainable\n",
              "=================================================================\n",
              "AlexNet (AlexNet)                        True\n",
              "├─Sequential (features)                  True\n",
              "│    └─Conv2d (0)                        True\n",
              "│    └─ReLU (1)                          --\n",
              "│    └─MaxPool2d (2)                     --\n",
              "│    └─Conv2d (3)                        True\n",
              "│    └─ReLU (4)                          --\n",
              "│    └─MaxPool2d (5)                     --\n",
              "│    └─Conv2d (6)                        True\n",
              "│    └─ReLU (7)                          --\n",
              "│    └─Conv2d (8)                        True\n",
              "│    └─ReLU (9)                          --\n",
              "│    └─Conv2d (10)                       True\n",
              "│    └─ReLU (11)                         --\n",
              "│    └─MaxPool2d (12)                    --\n",
              "├─AdaptiveAvgPool2d (avgpool)            --\n",
              "├─Sequential (classifier)                True\n",
              "│    └─Dropout (0)                       --\n",
              "│    └─Linear (1)                        True\n",
              "│    └─ReLU (2)                          --\n",
              "│    └─Dropout (3)                       --\n",
              "│    └─Linear (4)                        True\n",
              "│    └─ReLU (5)                          --\n",
              "│    └─Linear (6)                        True\n",
              "=================================================================\n",
              "Total params: 61,100,840\n",
              "Trainable params: 61,100,840\n",
              "Non-trainable params: 0\n",
              "================================================================="
            ]
          },
          "metadata": {},
          "execution_count": 27
        }
      ],
      "source": [
        "model_ft = models.alexnet(pretrained=True)\n",
        "summary(model_ft,col_names=[\"trainable\"],row_settings=[\"var_names\"])\n"
      ]
    },
    {
      "cell_type": "markdown",
      "source": [
        "### The last layer is modified to classify only the number of layers in our dataset. The set parameter gradient function is called to freeze the layers and the model summary is printed to show that only last new layer is trainable"
      ],
      "metadata": {
        "id": "zUm-Ryp9D4nh"
      }
    },
    {
      "cell_type": "code",
      "execution_count": null,
      "metadata": {
        "colab": {
          "base_uri": "https://localhost:8080/"
        },
        "id": "qRNIKs_BVI9G",
        "outputId": "e7508c73-dc21-4058-9b6c-cb8d10eac5b2"
      },
      "outputs": [
        {
          "output_type": "stream",
          "name": "stdout",
          "text": [
            "True\n"
          ]
        },
        {
          "output_type": "execute_result",
          "data": {
            "text/plain": [
              "=================================================================\n",
              "Layer (type (var_name))                  Trainable\n",
              "=================================================================\n",
              "AlexNet (AlexNet)                        Partial\n",
              "├─Sequential (features)                  False\n",
              "│    └─Conv2d (0)                        False\n",
              "│    └─ReLU (1)                          --\n",
              "│    └─MaxPool2d (2)                     --\n",
              "│    └─Conv2d (3)                        False\n",
              "│    └─ReLU (4)                          --\n",
              "│    └─MaxPool2d (5)                     --\n",
              "│    └─Conv2d (6)                        False\n",
              "│    └─ReLU (7)                          --\n",
              "│    └─Conv2d (8)                        False\n",
              "│    └─ReLU (9)                          --\n",
              "│    └─Conv2d (10)                       False\n",
              "│    └─ReLU (11)                         --\n",
              "│    └─MaxPool2d (12)                    --\n",
              "├─AdaptiveAvgPool2d (avgpool)            --\n",
              "├─Sequential (classifier)                Partial\n",
              "│    └─Dropout (0)                       --\n",
              "│    └─Linear (1)                        False\n",
              "│    └─ReLU (2)                          --\n",
              "│    └─Dropout (3)                       --\n",
              "│    └─Linear (4)                        False\n",
              "│    └─ReLU (5)                          --\n",
              "│    └─Linear (6)                        True\n",
              "=================================================================\n",
              "Total params: 57,126,750\n",
              "Trainable params: 122,910\n",
              "Non-trainable params: 57,003,840\n",
              "================================================================="
            ]
          },
          "metadata": {},
          "execution_count": 28
        }
      ],
      "source": [
        "\n",
        "model_ft = model_ft.to(device)\n",
        "# print(feature_extract)\n",
        "set_parameter_requires_grad(model_ft, feature_extract)\n",
        "num_ftrs = model_ft.classifier[6].in_features\n",
        "model_ft.classifier[6] = nn.Linear(num_ftrs,num_classes)\n",
        "summary(model_ft,col_names=[\"trainable\"],row_settings=[\"var_names\"])\n",
        "\n"
      ]
    },
    {
      "cell_type": "markdown",
      "source": [],
      "metadata": {
        "id": "Y8y9qmxsEkjM"
      }
    },
    {
      "cell_type": "code",
      "execution_count": null,
      "metadata": {
        "id": "REC6IRTH7gc3"
      },
      "outputs": [],
      "source": [
        "# input_size = 224\n",
        "# image_datasets = {x: dataset for x in ['train','val']}\n",
        "\n",
        "# dataloaders_dict = {x: torch.utils.data.DataLoader(image_datasets[x], batch_size=batch_size, shuffle=True, num_workers=4) for x in ['train', 'val']}\n",
        "# params_to_update = model_ft.parameters()\n",
        "# print(\"Params to learn:\")\n",
        "# if feature_extract:\n",
        "#     params_to_update = []\n",
        "#     for name,param in model_ft.named_parameters():\n",
        "#         if param.requires_grad == True:\n",
        "#             params_to_update.append(param)\n",
        "#             print(\"\\t\",name)"
      ]
    },
    {
      "cell_type": "code",
      "execution_count": null,
      "metadata": {
        "colab": {
          "base_uri": "https://localhost:8080/"
        },
        "id": "Rntv9UMRcy2z",
        "outputId": "8f56cdac-e248-46b2-e410-b502f953afe5"
      },
      "outputs": [
        {
          "output_type": "execute_result",
          "data": {
            "text/plain": [
              "Dataset ImageFolder\n",
              "    Number of datapoints: 1510\n",
              "    Root location: /content/gdrive/My Drive/caltech101/train\n",
              "    StandardTransform\n",
              "Transform: Compose(\n",
              "               Resize(size=(224, 224), interpolation=bilinear, max_size=None, antialias=True)\n",
              "               ToTensor()\n",
              "               Normalize(mean=[0.485, 0.456, 0.406], std=[0.229, 0.224, 0.225])\n",
              "               ColorJitter(brightness=(0.0, 0.5), contrast=None, saturation=None, hue=None)\n",
              "           )"
            ]
          },
          "metadata": {},
          "execution_count": 30
        }
      ],
      "source": [
        "dataset"
      ]
    },
    {
      "cell_type": "code",
      "execution_count": null,
      "metadata": {
        "colab": {
          "base_uri": "https://localhost:8080/"
        },
        "id": "5DjtI7hjb-Xh",
        "outputId": "a7d55820-4217-4d8e-9843-701e976c257c"
      },
      "outputs": [
        {
          "output_type": "execute_result",
          "data": {
            "text/plain": [
              "{'train': <torch.utils.data.dataloader.DataLoader at 0x7fc2f0304250>,\n",
              " 'val': <torch.utils.data.dataloader.DataLoader at 0x7fc2f0535850>}"
            ]
          },
          "metadata": {},
          "execution_count": 31
        }
      ],
      "source": [
        "dataloaders_dict"
      ]
    },
    {
      "cell_type": "markdown",
      "source": [
        "### Define the optimizer and the loss function to be used"
      ],
      "metadata": {
        "id": "X5-WagTKFZ2U"
      }
    },
    {
      "cell_type": "code",
      "execution_count": null,
      "metadata": {
        "id": "zyXzpkKhVJzS"
      },
      "outputs": [],
      "source": [
        "\n",
        "#Larger rate for the last layer\n",
        "optimizer_ft = optim.SGD([{'params': model_ft.classifier[6].parameters(), 'lr':0.01}], lr=0.001, momentum=0.9)\n",
        "# Setup the loss fnc\n",
        "criterion = nn.CrossEntropyLoss()"
      ]
    },
    {
      "cell_type": "markdown",
      "source": [
        "### send the model to the device(cpu or gpu) we selected and call the train function"
      ],
      "metadata": {
        "id": "xcCwT4YMFnHH"
      }
    },
    {
      "cell_type": "code",
      "execution_count": null,
      "metadata": {
        "colab": {
          "base_uri": "https://localhost:8080/"
        },
        "id": "XbTq9Xn-VRje",
        "outputId": "42438fc4-9c82-4692-ca90-ea372e5e8706"
      },
      "outputs": [
        {
          "output_type": "stream",
          "name": "stdout",
          "text": [
            "Epoch 0/99\n",
            "----------\n",
            "train Loss: 0.9697 Acc: 0.7839\n",
            "val Loss: 1.6548 Acc: 0.7185\n",
            "\n",
            "Epoch 1/99\n",
            "----------\n",
            "train Loss: 0.9384 Acc: 0.7972\n",
            "val Loss: 2.0476 Acc: 0.7053\n",
            "\n",
            "Epoch 2/99\n",
            "----------\n",
            "train Loss: 0.9738 Acc: 0.8096\n",
            "val Loss: 1.4812 Acc: 0.7252\n",
            "\n",
            "Epoch 3/99\n",
            "----------\n",
            "train Loss: 0.8294 Acc: 0.8063\n",
            "val Loss: 1.6380 Acc: 0.6821\n",
            "\n",
            "Epoch 4/99\n",
            "----------\n",
            "train Loss: 0.8906 Acc: 0.8096\n",
            "val Loss: 1.3114 Acc: 0.7119\n",
            "\n",
            "Epoch 5/99\n",
            "----------\n",
            "train Loss: 0.8865 Acc: 0.7939\n",
            "val Loss: 1.8910 Acc: 0.6523\n",
            "\n",
            "Epoch 6/99\n",
            "----------\n",
            "train Loss: 0.9161 Acc: 0.7997\n",
            "val Loss: 1.8482 Acc: 0.6987\n",
            "\n",
            "Epoch 7/99\n",
            "----------\n",
            "train Loss: 1.0059 Acc: 0.7889\n",
            "val Loss: 1.4788 Acc: 0.7152\n",
            "\n",
            "Epoch 8/99\n",
            "----------\n",
            "train Loss: 0.9340 Acc: 0.8013\n",
            "val Loss: 1.5228 Acc: 0.7252\n",
            "\n",
            "Epoch 9/99\n",
            "----------\n",
            "train Loss: 0.8361 Acc: 0.8079\n",
            "val Loss: 1.6948 Acc: 0.6954\n",
            "\n",
            "Epoch 10/99\n",
            "----------\n",
            "train Loss: 0.8684 Acc: 0.8121\n",
            "val Loss: 1.5851 Acc: 0.7185\n",
            "\n",
            "Epoch 11/99\n",
            "----------\n",
            "train Loss: 0.9425 Acc: 0.8030\n",
            "val Loss: 1.5379 Acc: 0.7351\n",
            "\n",
            "Epoch 12/99\n",
            "----------\n",
            "train Loss: 0.9019 Acc: 0.8129\n",
            "val Loss: 1.5850 Acc: 0.6987\n",
            "\n",
            "Epoch 13/99\n",
            "----------\n",
            "train Loss: 0.9026 Acc: 0.8129\n",
            "val Loss: 1.5586 Acc: 0.7517\n",
            "\n",
            "Epoch 14/99\n",
            "----------\n",
            "train Loss: 0.8911 Acc: 0.8121\n",
            "val Loss: 1.6228 Acc: 0.7185\n",
            "\n",
            "Epoch 15/99\n",
            "----------\n",
            "train Loss: 0.8227 Acc: 0.8187\n",
            "val Loss: 1.5101 Acc: 0.7219\n",
            "\n",
            "Epoch 16/99\n",
            "----------\n",
            "train Loss: 0.8905 Acc: 0.7980\n",
            "val Loss: 1.5920 Acc: 0.6854\n",
            "\n",
            "Epoch 17/99\n",
            "----------\n",
            "train Loss: 0.9772 Acc: 0.7972\n",
            "val Loss: 1.6484 Acc: 0.7219\n",
            "\n",
            "Epoch 18/99\n",
            "----------\n",
            "train Loss: 0.8082 Acc: 0.8096\n",
            "val Loss: 2.0287 Acc: 0.6689\n",
            "\n",
            "Epoch 19/99\n",
            "----------\n",
            "train Loss: 0.9920 Acc: 0.7906\n",
            "val Loss: 1.9358 Acc: 0.6589\n",
            "\n",
            "Epoch 20/99\n",
            "----------\n",
            "train Loss: 0.9525 Acc: 0.7964\n",
            "val Loss: 1.8754 Acc: 0.7020\n",
            "\n",
            "Epoch 21/99\n",
            "----------\n",
            "train Loss: 0.8384 Acc: 0.8137\n",
            "val Loss: 1.9209 Acc: 0.6954\n",
            "\n",
            "Epoch 22/99\n",
            "----------\n",
            "train Loss: 0.9631 Acc: 0.8079\n",
            "val Loss: 2.0983 Acc: 0.6623\n",
            "\n",
            "Epoch 23/99\n",
            "----------\n",
            "train Loss: 0.9025 Acc: 0.8137\n",
            "val Loss: 1.9708 Acc: 0.6623\n",
            "\n",
            "Epoch 24/99\n",
            "----------\n",
            "train Loss: 0.9259 Acc: 0.8146\n",
            "val Loss: 1.6386 Acc: 0.7053\n",
            "\n",
            "Epoch 25/99\n",
            "----------\n",
            "train Loss: 0.7372 Acc: 0.8237\n",
            "val Loss: 1.7958 Acc: 0.6987\n",
            "\n",
            "Epoch 26/99\n",
            "----------\n",
            "train Loss: 0.7985 Acc: 0.8253\n",
            "val Loss: 1.6210 Acc: 0.6987\n",
            "\n",
            "Epoch 27/99\n",
            "----------\n",
            "train Loss: 0.8077 Acc: 0.8096\n",
            "val Loss: 1.6065 Acc: 0.6854\n",
            "\n",
            "Epoch 28/99\n",
            "----------\n",
            "train Loss: 0.8261 Acc: 0.8245\n",
            "val Loss: 1.6140 Acc: 0.7086\n",
            "\n",
            "Epoch 29/99\n",
            "----------\n",
            "train Loss: 0.7642 Acc: 0.8270\n",
            "val Loss: 1.6975 Acc: 0.6987\n",
            "\n",
            "Epoch 30/99\n",
            "----------\n",
            "train Loss: 0.7958 Acc: 0.8179\n",
            "val Loss: 1.7153 Acc: 0.7185\n",
            "\n",
            "Epoch 31/99\n",
            "----------\n",
            "train Loss: 0.8424 Acc: 0.8162\n",
            "val Loss: 1.6911 Acc: 0.6788\n",
            "\n",
            "Epoch 32/99\n",
            "----------\n",
            "train Loss: 0.8060 Acc: 0.8295\n",
            "val Loss: 1.7806 Acc: 0.6954\n",
            "\n",
            "Epoch 33/99\n",
            "----------\n",
            "train Loss: 0.8183 Acc: 0.8278\n",
            "val Loss: 2.0983 Acc: 0.6921\n",
            "\n",
            "Epoch 34/99\n",
            "----------\n",
            "train Loss: 0.8617 Acc: 0.8212\n",
            "val Loss: 2.0656 Acc: 0.6788\n",
            "\n",
            "Epoch 35/99\n",
            "----------\n",
            "train Loss: 0.8997 Acc: 0.8154\n",
            "val Loss: 2.2001 Acc: 0.6689\n",
            "\n",
            "Epoch 36/99\n",
            "----------\n",
            "train Loss: 0.8708 Acc: 0.8204\n",
            "val Loss: 1.7112 Acc: 0.7252\n",
            "\n",
            "Epoch 37/99\n",
            "----------\n",
            "train Loss: 0.8678 Acc: 0.8104\n",
            "val Loss: 1.9498 Acc: 0.7053\n",
            "\n",
            "Epoch 38/99\n",
            "----------\n",
            "train Loss: 0.9390 Acc: 0.7972\n",
            "val Loss: 1.6450 Acc: 0.6921\n",
            "\n",
            "Epoch 39/99\n",
            "----------\n",
            "train Loss: 0.7532 Acc: 0.8278\n",
            "val Loss: 1.6153 Acc: 0.7086\n",
            "\n",
            "Epoch 40/99\n",
            "----------\n",
            "train Loss: 0.8071 Acc: 0.8295\n",
            "val Loss: 1.4259 Acc: 0.7252\n",
            "\n",
            "Epoch 41/99\n",
            "----------\n",
            "train Loss: 0.8972 Acc: 0.8063\n",
            "val Loss: 1.5886 Acc: 0.7053\n",
            "\n",
            "Epoch 42/99\n",
            "----------\n",
            "train Loss: 0.8456 Acc: 0.8154\n",
            "val Loss: 1.6040 Acc: 0.7053\n",
            "\n",
            "Epoch 43/99\n",
            "----------\n",
            "train Loss: 0.8668 Acc: 0.8129\n",
            "val Loss: 1.8366 Acc: 0.6788\n",
            "\n",
            "Epoch 44/99\n",
            "----------\n",
            "train Loss: 0.8916 Acc: 0.8104\n",
            "val Loss: 1.7555 Acc: 0.7053\n",
            "\n",
            "Epoch 45/99\n",
            "----------\n",
            "train Loss: 0.8463 Acc: 0.8171\n",
            "val Loss: 1.6220 Acc: 0.6987\n",
            "\n",
            "Epoch 46/99\n",
            "----------\n",
            "train Loss: 0.8058 Acc: 0.8228\n",
            "val Loss: 1.6326 Acc: 0.7119\n",
            "\n",
            "Epoch 47/99\n",
            "----------\n",
            "train Loss: 0.8651 Acc: 0.8270\n",
            "val Loss: 2.0397 Acc: 0.6788\n",
            "\n",
            "Epoch 48/99\n",
            "----------\n",
            "train Loss: 0.6368 Acc: 0.8485\n",
            "val Loss: 1.7991 Acc: 0.6921\n",
            "\n",
            "Epoch 49/99\n",
            "----------\n",
            "train Loss: 0.8124 Acc: 0.8195\n",
            "val Loss: 1.8092 Acc: 0.6821\n",
            "\n",
            "Epoch 50/99\n",
            "----------\n",
            "train Loss: 0.8759 Acc: 0.8137\n",
            "val Loss: 1.6627 Acc: 0.7152\n",
            "\n",
            "Epoch 51/99\n",
            "----------\n",
            "train Loss: 0.8378 Acc: 0.8129\n",
            "val Loss: 1.6501 Acc: 0.7086\n",
            "\n",
            "Epoch 52/99\n",
            "----------\n",
            "train Loss: 0.9035 Acc: 0.8079\n",
            "val Loss: 2.1887 Acc: 0.6854\n",
            "\n",
            "Epoch 53/99\n",
            "----------\n",
            "train Loss: 0.8888 Acc: 0.8195\n",
            "val Loss: 1.6800 Acc: 0.7185\n",
            "\n",
            "Epoch 54/99\n",
            "----------\n",
            "train Loss: 0.8631 Acc: 0.8146\n",
            "val Loss: 1.5690 Acc: 0.7252\n",
            "\n",
            "Epoch 55/99\n",
            "----------\n",
            "train Loss: 0.8175 Acc: 0.8270\n",
            "val Loss: 1.7745 Acc: 0.6987\n",
            "\n",
            "Epoch 56/99\n",
            "----------\n",
            "train Loss: 0.7747 Acc: 0.8286\n",
            "val Loss: 1.5829 Acc: 0.7152\n",
            "\n",
            "Epoch 57/99\n",
            "----------\n",
            "train Loss: 0.6597 Acc: 0.8543\n",
            "val Loss: 1.4336 Acc: 0.7384\n",
            "\n",
            "Epoch 58/99\n",
            "----------\n",
            "train Loss: 0.8058 Acc: 0.8162\n",
            "val Loss: 1.6722 Acc: 0.6987\n",
            "\n",
            "Epoch 59/99\n",
            "----------\n",
            "train Loss: 0.7572 Acc: 0.8344\n",
            "val Loss: 1.4495 Acc: 0.7252\n",
            "\n",
            "Epoch 60/99\n",
            "----------\n",
            "train Loss: 0.7320 Acc: 0.8369\n",
            "val Loss: 1.6306 Acc: 0.7185\n",
            "\n",
            "Epoch 61/99\n",
            "----------\n",
            "train Loss: 0.7581 Acc: 0.8336\n",
            "val Loss: 1.8488 Acc: 0.6589\n",
            "\n",
            "Epoch 62/99\n",
            "----------\n",
            "train Loss: 0.8516 Acc: 0.8212\n",
            "val Loss: 1.4940 Acc: 0.7119\n",
            "\n",
            "Epoch 63/99\n",
            "----------\n",
            "train Loss: 0.8586 Acc: 0.8154\n",
            "val Loss: 1.5253 Acc: 0.7517\n",
            "\n",
            "Epoch 64/99\n",
            "----------\n",
            "train Loss: 0.7420 Acc: 0.8452\n",
            "val Loss: 1.6678 Acc: 0.7185\n",
            "\n",
            "Epoch 65/99\n",
            "----------\n",
            "train Loss: 0.7879 Acc: 0.8361\n",
            "val Loss: 1.7395 Acc: 0.6921\n",
            "\n",
            "Epoch 66/99\n",
            "----------\n",
            "train Loss: 0.8520 Acc: 0.8171\n",
            "val Loss: 1.9951 Acc: 0.6722\n",
            "\n",
            "Epoch 67/99\n",
            "----------\n",
            "train Loss: 0.8952 Acc: 0.8311\n",
            "val Loss: 1.8361 Acc: 0.7053\n",
            "\n",
            "Epoch 68/99\n",
            "----------\n",
            "train Loss: 0.6964 Acc: 0.8419\n",
            "val Loss: 1.6754 Acc: 0.7119\n",
            "\n",
            "Epoch 69/99\n",
            "----------\n",
            "train Loss: 0.7089 Acc: 0.8601\n",
            "val Loss: 1.6415 Acc: 0.7053\n",
            "\n",
            "Epoch 70/99\n",
            "----------\n",
            "train Loss: 0.9189 Acc: 0.8005\n",
            "val Loss: 1.7488 Acc: 0.7086\n",
            "\n",
            "Epoch 71/99\n",
            "----------\n",
            "train Loss: 0.7425 Acc: 0.8394\n",
            "val Loss: 1.8633 Acc: 0.6887\n",
            "\n",
            "Epoch 72/99\n",
            "----------\n",
            "train Loss: 0.7644 Acc: 0.8328\n",
            "val Loss: 1.9123 Acc: 0.7053\n",
            "\n",
            "Epoch 73/99\n",
            "----------\n",
            "train Loss: 0.7406 Acc: 0.8344\n",
            "val Loss: 1.7366 Acc: 0.7086\n",
            "\n",
            "Epoch 74/99\n",
            "----------\n",
            "train Loss: 0.8014 Acc: 0.8328\n",
            "val Loss: 1.5679 Acc: 0.7318\n",
            "\n",
            "Epoch 75/99\n",
            "----------\n",
            "train Loss: 0.9091 Acc: 0.8129\n",
            "val Loss: 1.7987 Acc: 0.6689\n",
            "\n",
            "Epoch 76/99\n",
            "----------\n",
            "train Loss: 0.8669 Acc: 0.8063\n",
            "val Loss: 1.5852 Acc: 0.7550\n",
            "\n",
            "Epoch 77/99\n",
            "----------\n",
            "train Loss: 0.8177 Acc: 0.8336\n",
            "val Loss: 1.9997 Acc: 0.6887\n",
            "\n",
            "Epoch 78/99\n",
            "----------\n",
            "train Loss: 0.7713 Acc: 0.8286\n",
            "val Loss: 1.8255 Acc: 0.6821\n",
            "\n",
            "Epoch 79/99\n",
            "----------\n",
            "train Loss: 0.8710 Acc: 0.8262\n",
            "val Loss: 1.8598 Acc: 0.6887\n",
            "\n",
            "Epoch 80/99\n",
            "----------\n",
            "train Loss: 0.7340 Acc: 0.8510\n",
            "val Loss: 1.5297 Acc: 0.7384\n",
            "\n",
            "Epoch 81/99\n",
            "----------\n",
            "train Loss: 0.7504 Acc: 0.8460\n",
            "val Loss: 1.8079 Acc: 0.7053\n",
            "\n",
            "Epoch 82/99\n",
            "----------\n",
            "train Loss: 0.8206 Acc: 0.8295\n",
            "val Loss: 1.6388 Acc: 0.7185\n",
            "\n",
            "Epoch 83/99\n",
            "----------\n",
            "train Loss: 0.8295 Acc: 0.8253\n",
            "val Loss: 1.4974 Acc: 0.7450\n",
            "\n",
            "Epoch 84/99\n",
            "----------\n",
            "train Loss: 0.7994 Acc: 0.8328\n",
            "val Loss: 1.6527 Acc: 0.7053\n",
            "\n",
            "Epoch 85/99\n",
            "----------\n",
            "train Loss: 0.8012 Acc: 0.8295\n",
            "val Loss: 1.3379 Acc: 0.7583\n",
            "\n",
            "Epoch 86/99\n",
            "----------\n",
            "train Loss: 0.7181 Acc: 0.8452\n",
            "val Loss: 1.5874 Acc: 0.7119\n",
            "\n",
            "Epoch 87/99\n",
            "----------\n",
            "train Loss: 0.7119 Acc: 0.8427\n",
            "val Loss: 1.4162 Acc: 0.7219\n",
            "\n",
            "Epoch 88/99\n",
            "----------\n",
            "train Loss: 0.8643 Acc: 0.8154\n",
            "val Loss: 1.7101 Acc: 0.7152\n",
            "\n",
            "Epoch 89/99\n",
            "----------\n",
            "train Loss: 0.9042 Acc: 0.8228\n",
            "val Loss: 1.8664 Acc: 0.6921\n",
            "\n",
            "Epoch 90/99\n",
            "----------\n",
            "train Loss: 0.8067 Acc: 0.8262\n",
            "val Loss: 1.5714 Acc: 0.7119\n",
            "\n",
            "Epoch 91/99\n",
            "----------\n",
            "train Loss: 0.7679 Acc: 0.8353\n",
            "val Loss: 1.6972 Acc: 0.7185\n",
            "\n",
            "Epoch 92/99\n",
            "----------\n",
            "train Loss: 0.7435 Acc: 0.8328\n",
            "val Loss: 1.5377 Acc: 0.7285\n",
            "\n",
            "Epoch 93/99\n",
            "----------\n",
            "train Loss: 0.7859 Acc: 0.8411\n",
            "val Loss: 1.6371 Acc: 0.7285\n",
            "\n",
            "Epoch 94/99\n",
            "----------\n",
            "train Loss: 0.8137 Acc: 0.8286\n",
            "val Loss: 1.5445 Acc: 0.7285\n",
            "\n",
            "Epoch 95/99\n",
            "----------\n",
            "train Loss: 0.9654 Acc: 0.8129\n",
            "val Loss: 1.8172 Acc: 0.6788\n",
            "\n",
            "Epoch 96/99\n",
            "----------\n",
            "train Loss: 0.7139 Acc: 0.8419\n",
            "val Loss: 1.7833 Acc: 0.7252\n",
            "\n",
            "Epoch 97/99\n",
            "----------\n",
            "train Loss: 0.7826 Acc: 0.8328\n",
            "val Loss: 1.7813 Acc: 0.6954\n",
            "\n",
            "Epoch 98/99\n",
            "----------\n",
            "train Loss: 0.7707 Acc: 0.8262\n",
            "val Loss: 1.8988 Acc: 0.7252\n",
            "\n",
            "Epoch 99/99\n",
            "----------\n",
            "train Loss: 0.9054 Acc: 0.8179\n",
            "val Loss: 2.3871 Acc: 0.6589\n",
            "\n",
            "Training complete in 15m 7s\n",
            "Best val Acc: 0.758278\n"
          ]
        }
      ],
      "source": [
        "# Train and evaluate\n",
        "model_ft = model_ft.to(device)\n",
        "model_ft, hist = train_model(model_ft, dataloaders_dict, criterion, optimizer_ft, num_epochs=100)\n",
        "#PATH = '/content/gdrive/My Drive/caltech101.finetune_new.pth'\n",
        "#torch.save(model_ft.state_dict(), PATH)\n"
      ]
    },
    {
      "cell_type": "markdown",
      "source": [
        "### Load the test data and calculate the accuracy"
      ],
      "metadata": {
        "id": "X26DVCGgF2U3"
      }
    },
    {
      "cell_type": "code",
      "execution_count": null,
      "metadata": {
        "id": "9acJ0wPxy4nd",
        "colab": {
          "base_uri": "https://localhost:8080/"
        },
        "outputId": "d327aae6-c1e9-4b83-93ad-d5d81566a039"
      },
      "outputs": [
        {
          "output_type": "stream",
          "name": "stdout",
          "text": [
            "Accuracy of the network on the test images: 72 %\n"
          ]
        }
      ],
      "source": [
        "test_dir = \"/content/gdrive/My Drive/caltech101/test\"\n",
        "testset=torchvision.datasets.ImageFolder(test_dir,preprocessor)\n",
        "testloader=torch . utils . data . DataLoader( testset , batch_size=4 , shuffle=True)\n",
        "test_labels = testloader.dataset.targets\n",
        "# print(test_labels)\n",
        "correct = 0\n",
        "total = 0\n",
        "confusion_matrix = torch.zeros(30, 30)\n",
        "labels_list=[]\n",
        "predicts_list=[]\n",
        "all_predicted=[]\n",
        "t=0\n",
        "p=0\n",
        "with torch.no_grad():\n",
        "    for data in testloader:\n",
        "        images, labels = data[0].to(device),data[1].to(device)\n",
        "        outputs = model_ft(images)\n",
        "        _, predicted = torch.max(outputs.data, 1)\n",
        "        #for t, p in zip(labels.view(-1), predicted.view(-1)):     # line are for Confusion matrix\n",
        "        #        confusion_matrix[t.long(), p.long()] += 1         # line are for Confusion matrix\n",
        "        #labels_list.append(labels)\n",
        "        #predicts_list.append(predicted)\n",
        "        labels_list+=labels.cpu().numpy().tolist()\n",
        "        #print(outputs)\n",
        "        total += labels.size(0)\n",
        "\n",
        "        correct += (predicted == labels).sum().item()\n",
        "        all_predicted += predicted.cpu().numpy().tolist()\n",
        "        # print(len(all_predicted))\n",
        "        # print(\"total\",total)\n",
        "\n",
        "print('Accuracy of the network on the test images: %d %%' % (\n",
        "    100 * correct / total))\n",
        "#print(labels_list)\n",
        "#print(all_predicted)"
      ]
    },
    {
      "cell_type": "markdown",
      "source": [
        "### Compute and plot the confusion matrix"
      ],
      "metadata": {
        "id": "OkiMXdOYGCA3"
      }
    },
    {
      "cell_type": "code",
      "execution_count": null,
      "metadata": {
        "colab": {
          "base_uri": "https://localhost:8080/",
          "height": 1000
        },
        "id": "Y6RUNJ_VVW1_",
        "outputId": "5407407d-ecc2-4169-ff28-9cd46676321f"
      },
      "outputs": [
        {
          "output_type": "stream",
          "name": "stdout",
          "text": [
            "450 450\n",
            "Confusion matrix\n"
          ]
        },
        {
          "output_type": "display_data",
          "data": {
            "text/plain": [
              "<Figure size 3000x3000 with 2 Axes>"
            ],
            "image/png": "[encoded data removed]"
          },
          "metadata": {}
        }
      ],
      "source": [
        "from sklearn.metrics import confusion_matrix\n",
        "import matplotlib.pyplot as plt\n",
        "import numpy as np\n",
        "import itertools\n",
        "def plot_confusion_matrix(pred_class, actual_class,\n",
        "                          title='Confusion matrix',\n",
        "                          size=None):\n",
        "    \"\"\"\n",
        "    This function prints and plots the confusion matrix.\n",
        "    Normalization can be applied by setting `normalize=True`.\n",
        "\n",
        "    Code from: http://scikit-learn.org/stable/auto_examples/model_selection/plot_confusion_matrix.html\n",
        "    \"\"\"\n",
        "    cm = confusion_matrix(actual_class, pred_class)\n",
        "\n",
        "\n",
        "\n",
        "    cmap = plt.cm.Blues\n",
        "    # cmap = plt.cm\n",
        "    cm = cm.astype('float') / np.sum(cm, axis=1, keepdims=True)\n",
        "    cm = np.nan_to_num(cm)\n",
        "\n",
        "    if cm is not None:\n",
        "        cm = cm[0:size, 0:size]\n",
        "\n",
        "    print('Confusion matrix')\n",
        "    #print(cm)\n",
        "\n",
        "    plt.imshow(cm, interpolation='nearest', cmap=cmap)\n",
        "    plt.title(title)\n",
        "    plt.colorbar()\n",
        "\n",
        "    fmt = '.2f'\n",
        "    thresh = cm.max() / 2.\n",
        "    for i, j in itertools.product(range(cm.shape[0]), range(cm.shape[1])):\n",
        "        plt.text(j, i, format(cm[i, j], fmt),\n",
        "                 horizontalalignment=\"center\",\n",
        "                 color=\"white\" if cm[i, j] > thresh else \"black\")\n",
        "\n",
        "    plt.tight_layout()\n",
        "    plt.ylabel('True label')\n",
        "    plt.xlabel('Predicted label')\n",
        "\n",
        "#testloader=torch . utils . data . DataLoader( testset , batch_size=4 , shuffle=True)\n",
        "#net1 = FullNet()\n",
        "#net1.fit(trainloader)\n",
        "pred_labels =all_predicted# p.long()#net1.predict(testloader)\n",
        "plt.figure(figsize=(30,30))\n",
        "\n",
        "print(len(labels_list),len(pred_labels))\n",
        "\n",
        "test_labels = labels_list#t.long()#testloader.dataset.targets\n",
        "plot_confusion_matrix(test_labels, pred_labels,size=len(pred_labels))\n",
        "#plot_confusion_matrix(confusion_matrix,size=len(pred_labels))\n"
      ]
    },
    {
      "cell_type": "code",
      "execution_count": null,
      "metadata": {
        "id": "RfKrYtYw_bkH"
      },
      "outputs": [],
      "source": []
    }
  ],
  "metadata": {
    "accelerator": "GPU",
    "colab": {
      "gpuType": "T4",
      "provenance": [],
      "authorship_tag": "ABX9TyPTsGlto/tF+iXEtXTKN7/s",
      "include_colab_link": true
    },
    "kernelspec": {
      "display_name": "Python 3",
      "name": "python3"
    }
  },
  "nbformat": 4,
  "nbformat_minor": 0
}