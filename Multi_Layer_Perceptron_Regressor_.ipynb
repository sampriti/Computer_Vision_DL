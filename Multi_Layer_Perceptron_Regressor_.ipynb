{
  "nbformat": 4,
  "nbformat_minor": 0,
  "metadata": {
    "colab": {
      "provenance": [],
      "authorship_tag": "ABX9TyOeCO0iWLSCywDnsuptc0Lo",
      "include_colab_link": true
    },
    "kernelspec": {
      "name": "python3",
      "display_name": "Python 3"
    }
  },
  "cells": [
    {
      "cell_type": "markdown",
      "metadata": {
        "id": "view-in-github",
        "colab_type": "text"
      },
      "source": [
        "<a href=\"https://colab.research.google.com/github/sampriti/Computer_Vision_DL/blob/main/Multi_Layer_Perceptron_Regressor_.ipynb\" target=\"_parent\"><img src=\"https://colab.research.google.com/assets/colab-badge.svg\" alt=\"Open In Colab\"/></a>"
      ]
    },
    {
      "cell_type": "markdown",
      "source": [
        "### This notebook is used for demonstrating how a multilayer regressor can be used to fit any 2 variables. For demonstration we use input and output from a cubic polynomial and compare them using a plot"
      ],
      "metadata": {
        "id": "W_2dJMygz_YO"
      }
    },
    {
      "cell_type": "code",
      "metadata": {
        "id": "8elYGL8mhHGj",
        "colab": {
          "base_uri": "https://localhost:8080/"
        },
        "outputId": "e102dd3b-ad67-4991-af14-26d807ef153f"
      },
      "source": [
        "!pip install scikit-neuralnetwork"
      ],
      "execution_count": 12,
      "outputs": [
        {
          "output_type": "stream",
          "name": "stdout",
          "text": [
            "Requirement already satisfied: scikit-neuralnetwork in /usr/local/lib/python3.11/dist-packages (0.7)\n",
            "Requirement already satisfied: scikit-learn>=0.17 in /usr/local/lib/python3.11/dist-packages (from scikit-neuralnetwork) (1.6.1)\n",
            "Requirement already satisfied: Theano>=0.8 in /usr/local/lib/python3.11/dist-packages (from scikit-neuralnetwork) (1.0.5)\n",
            "Requirement already satisfied: Lasagne>=0.1 in /usr/local/lib/python3.11/dist-packages (from scikit-neuralnetwork) (0.1)\n",
            "Requirement already satisfied: numpy in /usr/local/lib/python3.11/dist-packages (from Lasagne>=0.1->scikit-neuralnetwork) (2.0.2)\n",
            "Requirement already satisfied: scipy>=1.6.0 in /usr/local/lib/python3.11/dist-packages (from scikit-learn>=0.17->scikit-neuralnetwork) (1.15.3)\n",
            "Requirement already satisfied: joblib>=1.2.0 in /usr/local/lib/python3.11/dist-packages (from scikit-learn>=0.17->scikit-neuralnetwork) (1.5.0)\n",
            "Requirement already satisfied: threadpoolctl>=3.1.0 in /usr/local/lib/python3.11/dist-packages (from scikit-learn>=0.17->scikit-neuralnetwork) (3.6.0)\n",
            "Requirement already satisfied: six>=1.9.0 in /usr/local/lib/python3.11/dist-packages (from Theano>=0.8->scikit-neuralnetwork) (1.17.0)\n"
          ]
        }
      ]
    },
    {
      "cell_type": "code",
      "metadata": {
        "id": "P34fOna8hRRl",
        "colab": {
          "base_uri": "https://localhost:8080/"
        },
        "outputId": "fc93877f-f7ae-4b11-9fd8-1a561ac2a71b"
      },
      "source": [
        "pip install scikit-learn\n"
      ],
      "execution_count": 3,
      "outputs": [
        {
          "output_type": "stream",
          "name": "stdout",
          "text": [
            "Requirement already satisfied: scikit-learn in /usr/local/lib/python3.11/dist-packages (1.6.1)\n",
            "Requirement already satisfied: numpy>=1.19.5 in /usr/local/lib/python3.11/dist-packages (from scikit-learn) (2.0.2)\n",
            "Requirement already satisfied: scipy>=1.6.0 in /usr/local/lib/python3.11/dist-packages (from scikit-learn) (1.15.3)\n",
            "Requirement already satisfied: joblib>=1.2.0 in /usr/local/lib/python3.11/dist-packages (from scikit-learn) (1.5.0)\n",
            "Requirement already satisfied: threadpoolctl>=3.1.0 in /usr/local/lib/python3.11/dist-packages (from scikit-learn) (3.6.0)\n"
          ]
        }
      ]
    },
    {
      "cell_type": "code",
      "source": [
        "!python --version\n",
        "!g++ --version\n",
        "!apt update\n",
        "!apt install clang\n",
        "!clang --version\n",
        "!apt-get update && apt-get install -y libopenblas-dev"
      ],
      "metadata": {
        "colab": {
          "base_uri": "https://localhost:8080/"
        },
        "id": "T_NzlW_g0CTT",
        "outputId": "708f881d-5c9a-4156-8bd4-0787add806fa"
      },
      "execution_count": 20,
      "outputs": [
        {
          "output_type": "stream",
          "name": "stdout",
          "text": [
            "Python 3.11.12\n",
            "g++ (Ubuntu 11.4.0-1ubuntu1~22.04) 11.4.0\n",
            "Copyright (C) 2021 Free Software Foundation, Inc.\n",
            "This is free software; see the source for copying conditions.  There is NO\n",
            "warranty; not even for MERCHANTABILITY or FITNESS FOR A PARTICULAR PURPOSE.\n",
            "\n",
            "Hit:1 https://cloud.r-project.org/bin/linux/ubuntu jammy-cran40/ InRelease\n",
            "Hit:2 https://developer.download.nvidia.com/compute/cuda/repos/ubuntu2204/x86_64  InRelease\n",
            "Hit:3 http://security.ubuntu.com/ubuntu jammy-security InRelease\n",
            "Hit:4 https://r2u.stat.illinois.edu/ubuntu jammy InRelease\n",
            "Hit:5 http://archive.ubuntu.com/ubuntu jammy InRelease\n",
            "Hit:6 http://archive.ubuntu.com/ubuntu jammy-updates InRelease\n",
            "Hit:7 http://archive.ubuntu.com/ubuntu jammy-backports InRelease\n",
            "Hit:8 https://ppa.launchpadcontent.net/deadsnakes/ppa/ubuntu jammy InRelease\n",
            "Hit:9 https://ppa.launchpadcontent.net/graphics-drivers/ppa/ubuntu jammy InRelease\n",
            "Hit:10 https://ppa.launchpadcontent.net/ubuntugis/ppa/ubuntu jammy InRelease\n",
            "Reading package lists... Done\n",
            "Building dependency tree... Done\n",
            "Reading state information... Done\n",
            "89 packages can be upgraded. Run 'apt list --upgradable' to see them.\n",
            "\u001b[1;33mW: \u001b[0mSkipping acquire of configured file 'main/source/Sources' as repository 'https://r2u.stat.illinois.edu/ubuntu jammy InRelease' does not seem to provide it (sources.list entry misspelt?)\u001b[0m\n",
            "Reading package lists... Done\n",
            "Building dependency tree... Done\n",
            "Reading state information... Done\n",
            "clang is already the newest version (1:14.0-55~exp2).\n",
            "0 upgraded, 0 newly installed, 0 to remove and 89 not upgraded.\n",
            "Ubuntu clang version 14.0.0-1ubuntu1.1\n",
            "Target: x86_64-pc-linux-gnu\n",
            "Thread model: posix\n",
            "InstalledDir: /usr/bin\n",
            "Hit:1 https://developer.download.nvidia.com/compute/cuda/repos/ubuntu2204/x86_64  InRelease\n",
            "Hit:2 https://cloud.r-project.org/bin/linux/ubuntu jammy-cran40/ InRelease\n",
            "Hit:3 http://security.ubuntu.com/ubuntu jammy-security InRelease\n",
            "Hit:4 http://archive.ubuntu.com/ubuntu jammy InRelease\n",
            "Hit:5 https://r2u.stat.illinois.edu/ubuntu jammy InRelease\n",
            "Hit:6 http://archive.ubuntu.com/ubuntu jammy-updates InRelease\n",
            "Hit:7 http://archive.ubuntu.com/ubuntu jammy-backports InRelease\n",
            "Hit:8 https://ppa.launchpadcontent.net/deadsnakes/ppa/ubuntu jammy InRelease\n",
            "Hit:9 https://ppa.launchpadcontent.net/graphics-drivers/ppa/ubuntu jammy InRelease\n",
            "Hit:10 https://ppa.launchpadcontent.net/ubuntugis/ppa/ubuntu jammy InRelease\n",
            "Reading package lists... Done\n",
            "W: Skipping acquire of configured file 'main/source/Sources' as repository 'https://r2u.stat.illinois.edu/ubuntu jammy InRelease' does not seem to provide it (sources.list entry misspelt?)\n",
            "Reading package lists... Done\n",
            "Building dependency tree... Done\n",
            "Reading state information... Done\n",
            "libopenblas-dev is already the newest version (0.3.20+ds-1).\n",
            "0 upgraded, 0 newly installed, 0 to remove and 89 not upgraded.\n"
          ]
        }
      ]
    },
    {
      "cell_type": "markdown",
      "source": [
        "### Using Multi-layer Regressor for fitting a cubic polynomial to a regressor\n"
      ],
      "metadata": {
        "id": "oPdj9mI5s9GZ"
      }
    },
    {
      "cell_type": "code",
      "metadata": {
        "id": "6Pcr2lN8hhSI",
        "colab": {
          "base_uri": "https://localhost:8080/",
          "height": 521
        },
        "outputId": "57448ad1-9d90-4699-aebb-18679d2fc883"
      },
      "source": [
        "# from sknn.mlp import Regressor\n",
        "from sklearn.neural_network import MLPRegressor\n",
        "# from sknn.mlp import Layer\n",
        "\n",
        "import numpy as np\n",
        "import matplotlib.pyplot as plt\n",
        "\n",
        "# Design Network\n",
        "# hiddenLayer = Layer(\"Rectifier\", units=6)\n",
        "# outputLayer = Layer(\"Linear\", units=1)\n",
        "# nn = Regressor([hiddenLayer, outputLayer], learning_rule='sgd',\n",
        "#                learning_rate=.001,batch_size=5,loss_type=\"mse\")\n",
        "nn = MLPRegressor(hidden_layer_sizes=(100,), activation='relu',solver='adam')\n",
        "\n",
        "# Generate Data\n",
        "def cubic(x):\n",
        "    return x**3 + x**2 - x - 1\n",
        "\n",
        "def get_cubic_data(start,end,step_size):\n",
        "    X = np.arange(start, end, step_size)\n",
        "    X.shape = (len(X),1)\n",
        "    y = np.array([cubic(X[i]) for i in range(len(X))])\n",
        "    y.shape = (len(y),1)\n",
        "    return X,y\n",
        "\n",
        "# Train Model\n",
        "X,y = get_cubic_data(-2,2,.1)\n",
        "nn.fit(X,y)\n",
        "\n",
        "# Predict\n",
        "predictions = nn.predict(X)\n",
        "\n",
        "# Visualize\n",
        "plt.plot(predictions)\n",
        "plt.plot(y)\n",
        "plt.show()"
      ],
      "execution_count": 9,
      "outputs": [
        {
          "output_type": "stream",
          "name": "stderr",
          "text": [
            "/usr/local/lib/python3.11/dist-packages/sklearn/neural_network/_multilayer_perceptron.py:1650: DataConversionWarning: A column-vector y was passed when a 1d array was expected. Please change the shape of y to (n_samples, ), for example using ravel().\n",
            "  y = column_or_1d(y, warn=True)\n",
            "/usr/local/lib/python3.11/dist-packages/sklearn/neural_network/_multilayer_perceptron.py:691: ConvergenceWarning: Stochastic Optimizer: Maximum iterations (200) reached and the optimization hasn't converged yet.\n",
            "  warnings.warn(\n"
          ]
        },
        {
          "output_type": "display_data",
          "data": {
            "text/plain": [
              "<Figure size 640x480 with 1 Axes>"
            ],
            "image/png": "[encoded data removed]"
          },
          "metadata": {}
        }
      ]
    },
    {
      "cell_type": "code",
      "metadata": {
        "id": "d8Fne6q0i-t0"
      },
      "source": [],
      "execution_count": null,
      "outputs": []
    }
  ]
}